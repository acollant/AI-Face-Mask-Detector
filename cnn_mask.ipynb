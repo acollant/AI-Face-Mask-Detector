{
 "cells": [
  {
   "cell_type": "code",
   "execution_count": 10,
   "id": "684c8b06-d1d3-4698-8929-d579a8382c3e",
   "metadata": {},
   "outputs": [],
   "source": [
    "# pip install torchvision"
   ]
  },
  {
   "cell_type": "code",
   "execution_count": 9,
   "id": "e849b51f-8e04-49d9-a4d4-fa85cd49e108",
   "metadata": {},
   "outputs": [],
   "source": [
    "# pip install visdom"
   ]
  },
  {
   "cell_type": "code",
   "execution_count": 4,
   "id": "0cd3e5ea-24fa-4496-9433-6a7f0e6e45cf",
   "metadata": {},
   "outputs": [],
   "source": [
    "# pip install --upgrade pip"
   ]
  },
  {
   "cell_type": "code",
   "execution_count": 8,
   "id": "584570c2-c542-4fbf-ae1d-abf3ddd8f28e",
   "metadata": {},
   "outputs": [
    {
     "name": "stdout",
     "output_type": "stream",
     "text": [
      "/usr/local/bin/python3.6: Error while finding module specification for 'visdom.server' (ModuleNotFoundError: No module named 'visdom')\n"
     ]
    }
   ],
   "source": [
    "!python3.6 -m visdom.server"
   ]
  },
  {
   "cell_type": "code",
   "execution_count": 30,
   "id": "7871ebc8-d13b-4e2b-ab8e-675ece5e4dcc",
   "metadata": {},
   "outputs": [
    {
     "name": "stdout",
     "output_type": "stream",
     "text": [
      "3.9.10\n"
     ]
    }
   ],
   "source": [
    "from platform import python_version\n",
    "\n",
    "print(python_version())"
   ]
  },
  {
   "cell_type": "code",
   "execution_count": 33,
   "id": "64665043-15ea-4710-855a-f157080835d5",
   "metadata": {},
   "outputs": [
    {
     "name": "stdout",
     "output_type": "stream",
     "text": [
      "/usr/local/bin/python3.6: Error while finding module specification for 'visdom.server' (ModuleNotFoundError: No module named 'visdom')\n"
     ]
    }
   ],
   "source": [
    "!python3 -m visdom.server"
   ]
  },
  {
   "cell_type": "code",
   "execution_count": 1,
   "id": "b06f4245-fa3b-4fce-99aa-548fb1c30b2c",
   "metadata": {},
   "outputs": [],
   "source": [
    "import torch\n",
    "import os, glob\n",
    "import random, csv\n",
    "\n",
    "import visdom\n",
    "from torch.utils.data import Dataset, DataLoader\n",
    "import torchvision\n",
    "from torchvision import transforms\n",
    "from PIL import Image\n",
    "\n",
    "import visdom\n",
    "import time"
   ]
  },
  {
   "cell_type": "code",
   "execution_count": 2,
   "id": "3d1918af-a4b6-435b-b2b6-01a2ceed4c01",
   "metadata": {},
   "outputs": [],
   "source": [
    "class Face(Dataset):\n",
    "\n",
    "    def __init__(self, root, resize, mode):\n",
    "        super(Face, self).__init__()\n",
    "\n",
    "        self.root = root\n",
    "        self.resize = resize\n",
    "\n",
    "        self.name2label = {}\n",
    "        for name in sorted(os.listdir(os.path.join(root))):\n",
    "            if not os.path.isdir(os.path.join(root, name)):\n",
    "                continue\n",
    "\n",
    "            self.name2label[name] = len(self.name2label.keys())\n",
    "\n",
    "        print(self.name2label)\n",
    "\n",
    "        # image, label\n",
    "        self.images, self.labels = self.load_csv('images.csv')\n",
    "\n",
    "        if mode == 'train':  # 60%\n",
    "            self.images = self.images[:int(0.6 * len(self.images))]\n",
    "            self.labels = self.labels[:int(0.6 * len(self.labels))]\n",
    "\n",
    "        elif mode == 'val':  # 20% (60-80%)\n",
    "            self.images = self.images[int(0.6 * len(self.images)):int(0.8 * len(self.images))]\n",
    "            self.labels = self.labels[int(0.6 * len(self.labels)):int(0.8 * len(self.labels))]\n",
    "\n",
    "        elif mode == 'test':  # 20% (80-100%)\n",
    "            self.images = self.images[int(0.8 * len(self.images)):]\n",
    "            self.labels = self.labels[int(0.8 * len(self.labels)):]\n",
    "\n",
    "    def load_csv(self, filename):\n",
    "\n",
    "        if not os.path.exists(os.path.join(self.root, filename)):\n",
    "            images = []\n",
    "            for name in self.name2label.keys():\n",
    "                # 'pokemon\\\\bulbasaur\\\\00000000.png'\n",
    "                images += glob.glob(os.path.join(self.root, name, '*.png'))\n",
    "                images += glob.glob(os.path.join(self.root, name, '*.jpg'))\n",
    "                images += glob.glob(os.path.join(self.root, name, '*.jpeg'))\n",
    "\n",
    "            # 1167, 'pokemon\\\\bulbasaur\\\\00000000.png'\n",
    "            print(len(images), images)\n",
    "\n",
    "            random.shuffle(images)\n",
    "            with open(os.path.join(self.root, filename), mode='w', newline='') as f:\n",
    "                writer = csv.writer(f)\n",
    "                for img in images:\n",
    "                    name = img.split(os.sep)[-2]\n",
    "                    label = self.name2label[name]\n",
    "                    # 'pokemon\\\\bulbasaur\\\\00000000.png', 0\n",
    "                    writer.writerow([img, label])\n",
    "                print(f\"written into csv file: {filename}\")\n",
    "\n",
    "        # read from csv file\n",
    "        images, labels = [], []\n",
    "        with open(os.path.join(self.root, filename)) as f:\n",
    "            reader = csv.reader(f)\n",
    "            for row in reader:\n",
    "                # 'pokemon\\\\bulbasaur\\\\00000000.png', 0\n",
    "                img, label = row\n",
    "                label = int(label)\n",
    "\n",
    "                images.append(img)\n",
    "                labels.append(label)\n",
    "\n",
    "        assert len(images) == len(labels)\n",
    "\n",
    "        return images, labels\n",
    "\n",
    "    def __len__(self):\n",
    "        return len(self.images)\n",
    "\n",
    "    def denormalize(self, x_hat):\n",
    "        mean = [0.485, 0.456, 0.406]\n",
    "        std = [0.229, 0.224, 0.225]\n",
    "\n",
    "        # x_hat = (x-mean)/std\n",
    "        # x = x_hat * std + mean\n",
    "        # x: [c, h, w]\n",
    "        # mean: [3] => [3, 1, 1] for broadcast to happen\n",
    "        mean = torch.tensor(mean).unsqueeze(1).unsqueeze(1)\n",
    "        std = torch.tensor(std).unsqueeze(1).unsqueeze(1)\n",
    "\n",
    "        x = x_hat * std + mean\n",
    "\n",
    "        return x\n",
    "\n",
    "    def __getitem__(self, idx):\n",
    "        # idx: [0:len(images)]\n",
    "        # self.images, self.labels\n",
    "        # img: 'pokemon\\\\bulbasaur\\\\00000000.png'\n",
    "        # label: 0\n",
    "        img, label = self.images[idx], self.labels[idx]\n",
    "\n",
    "        tf = transforms.Compose([\n",
    "            lambda x: Image.open(x).convert('RGB'),  # str path -> img data\n",
    "            transforms.Resize((int(self.resize * 1.25), int(self.resize * 1.25))),\n",
    "            transforms.RandomRotation(15),\n",
    "            transforms.CenterCrop(self.resize),\n",
    "            transforms.ToTensor(),\n",
    "            transforms.Normalize(mean=[0.485, 0.456, 0.406],\n",
    "                                 std=[0.229, 0.224, 0.225])  # from imagenet\n",
    "        ])\n",
    "\n",
    "        img = tf(img)\n",
    "        label = torch.tensor(label)\n",
    "\n",
    "        return img, label"
   ]
  },
  {
   "cell_type": "code",
   "execution_count": 3,
   "id": "b0ae2e4f-4f0e-488c-91e7-636d29bf8803",
   "metadata": {},
   "outputs": [
    {
     "name": "stderr",
     "output_type": "stream",
     "text": [
      "Setting up a new session...\n",
      "Traceback (most recent call last):\n",
      "  File \"/usr/local/lib/python3.9/site-packages/urllib3/connection.py\", line 174, in _new_conn\n",
      "    conn = connection.create_connection(\n",
      "  File \"/usr/local/lib/python3.9/site-packages/urllib3/util/connection.py\", line 95, in create_connection\n",
      "    raise err\n",
      "  File \"/usr/local/lib/python3.9/site-packages/urllib3/util/connection.py\", line 85, in create_connection\n",
      "    sock.connect(sa)\n",
      "ConnectionRefusedError: [Errno 61] Connection refused\n",
      "\n",
      "During handling of the above exception, another exception occurred:\n",
      "\n",
      "Traceback (most recent call last):\n",
      "  File \"/usr/local/lib/python3.9/site-packages/urllib3/connectionpool.py\", line 703, in urlopen\n",
      "    httplib_response = self._make_request(\n",
      "  File \"/usr/local/lib/python3.9/site-packages/urllib3/connectionpool.py\", line 398, in _make_request\n",
      "    conn.request(method, url, **httplib_request_kw)\n",
      "  File \"/usr/local/lib/python3.9/site-packages/urllib3/connection.py\", line 239, in request\n",
      "    super(HTTPConnection, self).request(method, url, body=body, headers=headers)\n",
      "  File \"/usr/local/Cellar/python@3.9/3.9.10/Frameworks/Python.framework/Versions/3.9/lib/python3.9/http/client.py\", line 1285, in request\n",
      "    self._send_request(method, url, body, headers, encode_chunked)\n",
      "  File \"/usr/local/Cellar/python@3.9/3.9.10/Frameworks/Python.framework/Versions/3.9/lib/python3.9/http/client.py\", line 1331, in _send_request\n",
      "    self.endheaders(body, encode_chunked=encode_chunked)\n",
      "  File \"/usr/local/Cellar/python@3.9/3.9.10/Frameworks/Python.framework/Versions/3.9/lib/python3.9/http/client.py\", line 1280, in endheaders\n",
      "    self._send_output(message_body, encode_chunked=encode_chunked)\n",
      "  File \"/usr/local/Cellar/python@3.9/3.9.10/Frameworks/Python.framework/Versions/3.9/lib/python3.9/http/client.py\", line 1040, in _send_output\n",
      "    self.send(msg)\n",
      "  File \"/usr/local/Cellar/python@3.9/3.9.10/Frameworks/Python.framework/Versions/3.9/lib/python3.9/http/client.py\", line 980, in send\n",
      "    self.connect()\n",
      "  File \"/usr/local/lib/python3.9/site-packages/urllib3/connection.py\", line 205, in connect\n",
      "    conn = self._new_conn()\n",
      "  File \"/usr/local/lib/python3.9/site-packages/urllib3/connection.py\", line 186, in _new_conn\n",
      "    raise NewConnectionError(\n",
      "urllib3.exceptions.NewConnectionError: <urllib3.connection.HTTPConnection object at 0x116fadee0>: Failed to establish a new connection: [Errno 61] Connection refused\n",
      "\n",
      "During handling of the above exception, another exception occurred:\n",
      "\n",
      "Traceback (most recent call last):\n",
      "  File \"/usr/local/lib/python3.9/site-packages/requests/adapters.py\", line 440, in send\n",
      "    resp = conn.urlopen(\n",
      "  File \"/usr/local/lib/python3.9/site-packages/urllib3/connectionpool.py\", line 785, in urlopen\n",
      "    retries = retries.increment(\n",
      "  File \"/usr/local/lib/python3.9/site-packages/urllib3/util/retry.py\", line 592, in increment\n",
      "    raise MaxRetryError(_pool, url, error or ResponseError(cause))\n",
      "urllib3.exceptions.MaxRetryError: HTTPConnectionPool(host='localhost', port=8097): Max retries exceeded with url: /env/main (Caused by NewConnectionError('<urllib3.connection.HTTPConnection object at 0x116fadee0>: Failed to establish a new connection: [Errno 61] Connection refused'))\n",
      "\n",
      "During handling of the above exception, another exception occurred:\n",
      "\n",
      "Traceback (most recent call last):\n",
      "  File \"/usr/local/lib/python3.9/site-packages/visdom/__init__.py\", line 708, in _send\n",
      "    return self._handle_post(\n",
      "  File \"/usr/local/lib/python3.9/site-packages/visdom/__init__.py\", line 677, in _handle_post\n",
      "    r = self.session.post(url, data=data)\n",
      "  File \"/usr/local/lib/python3.9/site-packages/requests/sessions.py\", line 577, in post\n",
      "    return self.request('POST', url, data=data, json=json, **kwargs)\n",
      "  File \"/usr/local/lib/python3.9/site-packages/requests/sessions.py\", line 529, in request\n",
      "    resp = self.send(prep, **send_kwargs)\n",
      "  File \"/usr/local/lib/python3.9/site-packages/requests/sessions.py\", line 645, in send\n",
      "    r = adapter.send(request, **kwargs)\n",
      "  File \"/usr/local/lib/python3.9/site-packages/requests/adapters.py\", line 519, in send\n",
      "    raise ConnectionError(e, request=request)\n",
      "requests.exceptions.ConnectionError: HTTPConnectionPool(host='localhost', port=8097): Max retries exceeded with url: /env/main (Caused by NewConnectionError('<urllib3.connection.HTTPConnection object at 0x116fadee0>: Failed to establish a new connection: [Errno 61] Connection refused'))\n",
      "[Errno 61] Connection refused\n",
      "on_close() takes 1 positional argument but 3 were given\n"
     ]
    },
    {
     "name": "stdout",
     "output_type": "stream",
     "text": [
      "Exception in user code:\n",
      "------------------------------------------------------------\n"
     ]
    }
   ],
   "source": [
    "viz = visdom.Visdom()\n",
    "# using self implemented Dataset class\n",
    "# db = Face('data', 224, 'train')    \n",
    "# print(db.images[0], db.labels[0])\n",
    "\n",
    "# x, y = next(iter(db))\n",
    "# print(x.shape, y)\n",
    "\n",
    "# viz.image(db.denormalize(x), win='sample_x', opts=dict(title='sample_x'))\n",
    "\n",
    "# loader = DataLoader(db, batch_size=32, shuffle=True)\n",
    "\n",
    "# for x, y in loader:\n",
    "    # viz.images(db.denormalize(x), nrow=8, win='batch', opts=dict(title='batch'))\n",
    "    # viz.text(str(y.numpy()), win='label', opts=dict(title='batch_y'))\n",
    "\n",
    "    # time.sleep(10)"
   ]
  },
  {
   "cell_type": "code",
   "execution_count": 14,
   "id": "3160b67b-1777-4598-a498-7d55fc516b25",
   "metadata": {},
   "outputs": [
    {
     "name": "stdout",
     "output_type": "stream",
     "text": [
      "done\n"
     ]
    }
   ],
   "source": [
    "print(\"done\")"
   ]
  },
  {
   "cell_type": "code",
   "execution_count": 21,
   "id": "3fbad896-b32a-4fce-a096-4efde65f683f",
   "metadata": {},
   "outputs": [],
   "source": [
    "from PIL import Image\n",
    "import numpy as np\n",
    "import os\n",
    "\n",
    "def load_image(infilename):\n",
    "    \"\"\"This function loads an image into memory when you give it\n",
    "       the path of the image\n",
    "    \"\"\"\n",
    "    img = Image.open(infilename)\n",
    "    img.load()\n",
    "    data = np.asarray(img, dtype=\"float32\")\n",
    "    return data, data.shape\n",
    "\n",
    "\n",
    "def create_npy_from_image(images_folder, output_name, num_images, image_dim):\n",
    "    \"\"\"Loops through the images in a folder and saves all of them\n",
    "       as a numpy array in output_name\n",
    "    \"\"\"\n",
    "    image_matrix = np.empty((num_images, image_dim, image_dim, 3), dtype=np.float32)\n",
    "    for i, filename in enumerate(os.listdir(images_folder)):\n",
    "        if filename.endswith(\".jpg\"):\n",
    "            data = load_image(images_folder + filename)\n",
    "            image_matrix[i] = data\n",
    "        elif filename.endswith(\".jpeg\"):\n",
    "            data = load_image(images_folder + filename)\n",
    "            image_matrix[i] = data\n",
    "        else:\n",
    "            continue\n",
    "    np.save(output_name, image_matrix)"
   ]
  },
  {
   "cell_type": "code",
   "execution_count": 23,
   "id": "493c0862-3d49-4071-8e42-c010fa402689",
   "metadata": {},
   "outputs": [],
   "source": [
    "img, shape = load_image('./data/cloth-mask/0018.jpg')"
   ]
  },
  {
   "cell_type": "code",
   "execution_count": 11,
   "id": "ffe38f00-89f7-407a-a67c-e8b1279d703c",
   "metadata": {},
   "outputs": [
    {
     "name": "stdout",
     "output_type": "stream",
     "text": [
      "\u001b[34mCode\u001b[m\u001b[m           README.md      cnn_mask.ipynb \u001b[34mdata\u001b[m\u001b[m\n"
     ]
    }
   ],
   "source": [
    "create_npy_from_image(\"./data/cloth-mask\", output_name, num_images, shape)"
   ]
  },
  {
   "cell_type": "code",
   "execution_count": null,
   "id": "1d4315cb-2c9c-40ec-acb0-e0559f124ce6",
   "metadata": {},
   "outputs": [],
   "source": []
  }
 ],
 "metadata": {
  "kernelspec": {
   "display_name": "Python 3 (ipykernel)",
   "language": "python",
   "name": "python3"
  },
  "language_info": {
   "codemirror_mode": {
    "name": "ipython",
    "version": 3
   },
   "file_extension": ".py",
   "mimetype": "text/x-python",
   "name": "python",
   "nbconvert_exporter": "python",
   "pygments_lexer": "ipython3",
   "version": "3.9.10"
  }
 },
 "nbformat": 4,
 "nbformat_minor": 5
}
