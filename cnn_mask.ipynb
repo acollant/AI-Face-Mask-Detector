{
 "cells": [
  {
   "cell_type": "markdown",
   "id": "dfb9e617-ec4f-42a4-bdf7-746fe18cce84",
   "metadata": {},
   "source": [
    "# Imports"
   ]
  },
  {
   "cell_type": "code",
   "execution_count": 1,
   "id": "e849b51f-8e04-49d9-a4d4-fa85cd49e108",
   "metadata": {},
   "outputs": [],
   "source": [
    "import torch\n",
    "import torch.nn as nn\n",
    "import torchvision\n",
    "import torchvision.transforms as transforms\n",
    "import numpy as np\n",
    "import matplotlib.pyplot as plt\n",
    "import torch.utils.data as data_utils\n",
    "from PIL import Image\n",
    "import os\n",
    "from datetime import datetime\n",
    "import torch.nn.functional as F"
   ]
  },
  {
   "cell_type": "markdown",
   "id": "5ed73bd2-6c69-4343-a6ee-466012ba107a",
   "metadata": {},
   "source": [
    "# Data Loading\n",
    "We want to upload our data in a format that a CNN can understand. In our case our images are 128 by 128 pixels with colors. The shape of each image is $(128, 128, 3)$.\n",
    "\n",
    "```load_image``` transforms image to a ```numpy``` array of size $(128, 128, 3)$, while ```create_npy_from_image``` loops over images in a given directory and returns an array (```numpy```) of images."
   ]
  },
  {
   "cell_type": "code",
   "execution_count": 2,
   "id": "3fbad896-b32a-4fce-a096-4efde65f683f",
   "metadata": {},
   "outputs": [],
   "source": [
    "def load_image(infilename):\n",
    "    \"\"\"This function loads an image into memory when you give it\n",
    "       the path of the image\n",
    "    \"\"\"\n",
    "    img = Image.open(infilename)\n",
    "    img.load()\n",
    "    data = np.asarray(img, dtype=\"float32\")\n",
    "    \n",
    "    if data.shape[2] == 4:\n",
    "        data = np.delete(data, 3, 2)\n",
    "        \n",
    "    return data, data.shape\n",
    "\n",
    "\n",
    "def create_npy_from_image(images_class, st, en):\n",
    "    \"\"\"Loops through the images in a folder and saves all of them\n",
    "       as a numpy array in output_name\n",
    "    \"\"\"\n",
    "\n",
    "    data = []\n",
    "    print(\"##############################################\")\n",
    "    print(f\"class: {images_class}\")\n",
    "    for i in range(st, en+1):\n",
    "        img, shape = load_image(f'./data/{images_class}/{images_class}{i}.png')\n",
    "        data.append(img)\n",
    "        if (i-1)%50 == 0:\n",
    "            print(f\"image number {i}: shape is {shape}\")\n",
    "    \n",
    "    # filename.endswith(\".jpg\"):\n",
    "    return np.array(data, dtype=np.object_)\n",
    "    # return data"
   ]
  },
  {
   "cell_type": "code",
   "execution_count": 3,
   "id": "29021967-301a-41e7-91ec-55bd8f165aff",
   "metadata": {},
   "outputs": [
    {
     "name": "stdout",
     "output_type": "stream",
     "text": [
      "##############################################\n",
      "class: cloth\n",
      "image number 1: shape is (128, 128, 3)\n",
      "image number 51: shape is (128, 128, 3)\n",
      "image number 101: shape is (128, 128, 3)\n",
      "image number 151: shape is (128, 128, 3)\n",
      "image number 201: shape is (128, 128, 3)\n",
      "##############################################\n",
      "class: cloth\n",
      "image number 251: shape is (128, 128, 3)\n",
      "##############################################\n",
      "class: no_mask\n",
      "image number 1: shape is (128, 128, 3)\n",
      "image number 51: shape is (128, 128, 3)\n",
      "image number 101: shape is (128, 128, 3)\n",
      "image number 151: shape is (128, 128, 3)\n",
      "image number 201: shape is (128, 128, 3)\n",
      "##############################################\n",
      "class: no_mask\n",
      "image number 251: shape is (128, 128, 3)\n"
     ]
    }
   ],
   "source": [
    "train_set, test_set = 250, 50\n",
    "img_classes = [\"cloth\", \"no_mask\"]\n",
    "train_data = []\n",
    "test_data = []\n",
    "for img_cl in img_classes:\n",
    "    train_data.append(create_npy_from_image(img_cl, 1, train_set))\n",
    "    test_data.append(create_npy_from_image(img_cl, train_set+1, train_set+test_set))"
   ]
  },
  {
   "cell_type": "code",
   "execution_count": 4,
   "id": "493c0862-3d49-4071-8e42-c010fa402689",
   "metadata": {},
   "outputs": [],
   "source": [
    "train_features = torch.Tensor(np.concatenate(train_data, axis=0).astype(np.int32))\n",
    "train_targets = torch.Tensor(np.concatenate(([0 for i in range(train_set)], [1 for i in range(train_set)]), axis=0).astype(np.int32)).type(torch.IntTensor)\n",
    "\n",
    "test_features = torch.Tensor(np.concatenate(test_data, axis=0).astype(np.int32))\n",
    "test_targets = torch.Tensor(np.concatenate(([0 for i in range(test_set)], [1 for i in range(test_set)]), axis=0).astype(np.int32)).type(torch.IntTensor)"
   ]
  },
  {
   "cell_type": "markdown",
   "id": "be8a744b-0f1c-41bd-ada4-8f08ac29edf1",
   "metadata": {},
   "source": [
    "Last modification to our dataset is using ```data_utils.TensorDataset``` to transform our dataset to a [map-style datasets](https://pytorch.org/docs/stable/data.html#:~:text=of%20these%20options.-,Dataset%20Types,-The%20most%20important). This is useful because it automatically generates batches in the training loop and takes care of shuffling."
   ]
  },
  {
   "cell_type": "code",
   "execution_count": 5,
   "id": "222ea356-9205-48ae-8fa8-5c2ca9bee04f",
   "metadata": {},
   "outputs": [],
   "source": [
    "train_dataset = data_utils.TensorDataset(train_features, train_targets)\n",
    "test_dataset = data_utils.TensorDataset(test_features, test_targets)"
   ]
  },
  {
   "cell_type": "markdown",
   "id": "0dea0389-a950-4b27-98af-06307c35695c",
   "metadata": {},
   "source": [
    "# Simple ANN model"
   ]
  },
  {
   "cell_type": "code",
   "execution_count": 6,
   "id": "ffe38f00-89f7-407a-a67c-e8b1279d703c",
   "metadata": {},
   "outputs": [],
   "source": [
    "model = nn.Sequential(\n",
    "    nn.Linear(49152, 128),\n",
    "    nn.ReLU(),\n",
    "    nn.Linear(128, 10)\n",
    ")"
   ]
  },
  {
   "cell_type": "code",
   "execution_count": 7,
   "id": "603a16ce-6df8-43b9-a77e-20cb5c8e6123",
   "metadata": {},
   "outputs": [
    {
     "name": "stdout",
     "output_type": "stream",
     "text": [
      "cpu\n"
     ]
    },
    {
     "data": {
      "text/plain": [
       "Sequential(\n",
       "  (0): Linear(in_features=49152, out_features=128, bias=True)\n",
       "  (1): ReLU()\n",
       "  (2): Linear(in_features=128, out_features=10, bias=True)\n",
       ")"
      ]
     },
     "execution_count": 7,
     "metadata": {},
     "output_type": "execute_result"
    }
   ],
   "source": [
    "device = torch.device(\"cuda:0\" if torch.cuda.is_available() else \"cpu\")\n",
    "print(device)\n",
    "model.to(device)"
   ]
  },
  {
   "cell_type": "code",
   "execution_count": 8,
   "id": "286be269-3c0a-4342-8bd8-b7f5080cff38",
   "metadata": {},
   "outputs": [],
   "source": [
    "criterion = nn.CrossEntropyLoss()\n",
    "optimizer = torch.optim.Adam(model.parameters())"
   ]
  },
  {
   "cell_type": "code",
   "execution_count": 9,
   "id": "d13d7886-84a2-4831-ac5f-5f278929b0b6",
   "metadata": {},
   "outputs": [],
   "source": [
    "batch_size = 250\n",
    "train_loader = torch.utils.data.DataLoader(dataset=train_dataset, \n",
    "                                           batch_size=batch_size, \n",
    "                                           shuffle=True)\n",
    "\n",
    "test_loader = torch.utils.data.DataLoader(dataset=test_dataset, \n",
    "                                          batch_size=batch_size, \n",
    "                                          shuffle=False)"
   ]
  },
  {
   "cell_type": "code",
   "execution_count": 10,
   "id": "e3a6ab3a-a72b-464f-b2ed-69719566e856",
   "metadata": {},
   "outputs": [],
   "source": [
    "tmp_loader = torch.utils.data.DataLoader(dataset=train_dataset, \n",
    "                                         batch_size=1, \n",
    "                                         shuffle=True)"
   ]
  },
  {
   "cell_type": "markdown",
   "id": "a09a7050-b13b-4364-85b7-659c9f63eb49",
   "metadata": {},
   "source": [
    "### Training"
   ]
  },
  {
   "cell_type": "code",
   "execution_count": 11,
   "id": "058a69bb-02ac-4e85-b09f-4e144baccd3b",
   "metadata": {},
   "outputs": [
    {
     "name": "stdout",
     "output_type": "stream",
     "text": [
      "Epoch 10/100, Train Loss: 572.1860, Test Loss: 1768.4231\n",
      "Epoch 20/100, Train Loss: 377.0498, Test Loss: 347.6975\n",
      "Epoch 30/100, Train Loss: 50.6861, Test Loss: 120.7711\n",
      "Epoch 40/100, Train Loss: 25.3191, Test Loss: 83.1867\n",
      "Epoch 50/100, Train Loss: 5.6239, Test Loss: 46.5766\n",
      "Epoch 60/100, Train Loss: 2.9692, Test Loss: 53.5472\n",
      "Epoch 70/100, Train Loss: 1.6847, Test Loss: 54.5124\n",
      "Epoch 80/100, Train Loss: 0.3275, Test Loss: 52.5478\n",
      "Epoch 90/100, Train Loss: 0.0000, Test Loss: 51.6473\n",
      "Epoch 100/100, Train Loss: 0.0000, Test Loss: 58.9259\n"
     ]
    }
   ],
   "source": [
    "# Train the model\n",
    "n_epochs = 100\n",
    "\n",
    "# Stuff to store\n",
    "train_losses = np.zeros(n_epochs)\n",
    "test_losses = np.zeros(n_epochs)\n",
    "\n",
    "for it in range(n_epochs):\n",
    "    train_loss = []\n",
    "    for inputs, targets in train_loader:\n",
    "        # move data to GPU\n",
    "        inputs, targets = inputs.to(device), targets.to(device).type(torch.LongTensor)\n",
    "\n",
    "        # reshape the input\n",
    "        inputs = inputs.view(-1, 49152)\n",
    "\n",
    "        # zero the parameter gradients\n",
    "        optimizer.zero_grad()\n",
    "\n",
    "        # Forward pass\n",
    "        outputs = model(inputs)\n",
    "        loss = criterion(outputs, targets)\n",
    "\n",
    "        # Backward and optimize\n",
    "        loss.backward()\n",
    "        optimizer.step()\n",
    "\n",
    "        train_loss.append(loss.item())\n",
    "\n",
    "    # Get train loss and test loss\n",
    "    train_loss = np.mean(train_loss) # a little misleading\n",
    "  \n",
    "    test_loss = []\n",
    "    for inputs, targets in test_loader:\n",
    "        inputs, targets = inputs.to(device), targets.to(device).type(torch.LongTensor)\n",
    "        inputs = inputs.view(-1, 49152)\n",
    "        outputs = model(inputs)\n",
    "        loss = criterion(outputs, targets)\n",
    "        test_loss.append(loss.item())\n",
    "    test_loss = np.mean(test_loss)\n",
    "\n",
    "    # Save losses\n",
    "    train_losses[it] = train_loss\n",
    "    test_losses[it] = test_loss\n",
    "    \n",
    "    if (it+1)%10 == 0:\n",
    "        print(f'Epoch {it+1}/{n_epochs}, Train Loss: {train_loss:.4f}, Test Loss: {test_loss:.4f}')"
   ]
  },
  {
   "cell_type": "code",
   "execution_count": 12,
   "id": "64267f79-a3f5-47c5-ad9c-0a8bb097f689",
   "metadata": {},
   "outputs": [
    {
     "data": {
      "image/png": "[encoded data removed]",
      "text/plain": [
       "<Figure size 432x288 with 1 Axes>"
      ]
     },
     "metadata": {
      "needs_background": "light"
     },
     "output_type": "display_data"
    }
   ],
   "source": [
    "# Plot the train loss and test loss per iteration\n",
    "plt.plot(train_losses, label='train loss')\n",
    "plt.plot(test_losses, label='test loss')\n",
    "plt.legend()\n",
    "plt.show()"
   ]
  },
  {
   "cell_type": "markdown",
   "id": "02c4553f-4089-44c0-9e19-3d446301d497",
   "metadata": {},
   "source": [
    "# CNN model"
   ]
  },
  {
   "cell_type": "markdown",
   "id": "f100c38f-f31c-45e2-bb7e-b1d7ca4423d4",
   "metadata": {},
   "source": [
    "We start by reshaping the data, where images shapes go from $(128, 128, 3)$ to $(3, 128, 128)$"
   ]
  },
  {
   "cell_type": "code",
   "execution_count": 58,
   "id": "026c42ec-17b2-46eb-8d4e-829130f6ffdc",
   "metadata": {},
   "outputs": [],
   "source": [
    "for i in range(len(train_data)):\n",
    "    train_data[i] = np.swapaxes(np.swapaxes(train_data[i], 2, 3), 1, 2)\n",
    "    test_data[i] = np.swapaxes(np.swapaxes(test_data[i], 2, 3), 1, 2)"
   ]
  },
  {
   "cell_type": "code",
   "execution_count": 59,
   "id": "a147e049-4f67-4d45-8ad9-2b3a77555248",
   "metadata": {},
   "outputs": [],
   "source": [
    "train_features = torch.Tensor(np.concatenate(train_data, axis=0).astype(np.int32))\n",
    "train_targets = torch.Tensor(np.concatenate(([0 for i in range(train_set)], [1 for i in range(train_set)]), axis=0).astype(np.int32)).type(torch.IntTensor)\n",
    "\n",
    "test_features = torch.Tensor(np.concatenate(test_data, axis=0).astype(np.int32))\n",
    "test_targets = torch.Tensor(np.concatenate(([0 for i in range(test_set)], [1 for i in range(test_set)]), axis=0).astype(np.int32)).type(torch.IntTensor)"
   ]
  },
  {
   "cell_type": "code",
   "execution_count": 60,
   "id": "64b91fcc-74b5-404a-8759-5f16188b5d9f",
   "metadata": {},
   "outputs": [],
   "source": [
    "train_dataset = data_utils.TensorDataset(train_features, train_targets)\n",
    "test_dataset = data_utils.TensorDataset(test_features, test_targets)"
   ]
  },
  {
   "cell_type": "code",
   "execution_count": 61,
   "id": "ebde4808-6206-4ae7-bf42-31f14f457f25",
   "metadata": {},
   "outputs": [],
   "source": [
    "# number of classes\n",
    "K = 2"
   ]
  },
  {
   "cell_type": "code",
   "execution_count": 62,
   "id": "7edf0faf-2dce-4dfe-8077-f9e1c25938cc",
   "metadata": {},
   "outputs": [],
   "source": [
    "# Define the model\n",
    "class CNN(nn.Module):\n",
    "    def __init__(self, K):\n",
    "        super(CNN, self).__init__()\n",
    "        self.conv1 = nn.Conv2d(3, 32, kernel_size=3, stride=2)\n",
    "        self.conv2 = nn.Conv2d(32, 64, kernel_size=3, stride=2)\n",
    "        self.conv3 = nn.Conv2d(64, 128, kernel_size=3, stride=2)\n",
    "\n",
    "        # define the linear layers\n",
    "        self.fc1 = nn.Linear(128 * 15 * 15, 1024)\n",
    "        self.fc2 = nn.Linear(1024, K)\n",
    "  \n",
    "    def forward(self, x):\n",
    "        x = F.relu(self.conv1(x))\n",
    "        x = F.relu(self.conv2(x))\n",
    "        x = F.relu(self.conv3(x))\n",
    "        x = x.view(-1, 128 * 15 * 15)\n",
    "        x = F.dropout(x, p=0.5)\n",
    "        x = F.relu(self.fc1(x))\n",
    "        x = F.dropout(x, p=0.2)\n",
    "        x = self.fc2(x)\n",
    "        return x\n"
   ]
  },
  {
   "cell_type": "code",
   "execution_count": 63,
   "id": "1adf997e-2903-45f8-87fe-6e0f7a755888",
   "metadata": {},
   "outputs": [],
   "source": [
    "# Instantiate the model\n",
    "model = CNN(K)"
   ]
  },
  {
   "cell_type": "code",
   "execution_count": 64,
   "id": "e40dce03-c3ea-4b34-b138-1ad9f54138bd",
   "metadata": {},
   "outputs": [
    {
     "name": "stdout",
     "output_type": "stream",
     "text": [
      "cpu\n"
     ]
    },
    {
     "data": {
      "text/plain": [
       "CNN(\n",
       "  (conv1): Conv2d(3, 32, kernel_size=(3, 3), stride=(2, 2))\n",
       "  (conv2): Conv2d(32, 64, kernel_size=(3, 3), stride=(2, 2))\n",
       "  (conv3): Conv2d(64, 128, kernel_size=(3, 3), stride=(2, 2))\n",
       "  (fc1): Linear(in_features=28800, out_features=1024, bias=True)\n",
       "  (fc2): Linear(in_features=1024, out_features=2, bias=True)\n",
       ")"
      ]
     },
     "execution_count": 64,
     "metadata": {},
     "output_type": "execute_result"
    }
   ],
   "source": [
    "device = torch.device(\"cuda:0\" if torch.cuda.is_available() else \"cpu\")\n",
    "print(device)\n",
    "model.to(device)"
   ]
  },
  {
   "cell_type": "code",
   "execution_count": 65,
   "id": "e53ca21a-53a3-427c-bebe-baf10b5bed35",
   "metadata": {},
   "outputs": [],
   "source": [
    "# Loss and optimizer\n",
    "criterion = nn.CrossEntropyLoss()\n",
    "optimizer = torch.optim.Adam(model.parameters())"
   ]
  },
  {
   "cell_type": "code",
   "execution_count": 66,
   "id": "3e51426e-fa1e-443d-ab6f-7a40f6043965",
   "metadata": {},
   "outputs": [],
   "source": [
    "batch_size = 250\n",
    "train_loader = torch.utils.data.DataLoader(dataset=train_dataset, \n",
    "                                           batch_size=batch_size, \n",
    "                                           shuffle=True)\n",
    "\n",
    "test_loader = torch.utils.data.DataLoader(dataset=test_dataset, \n",
    "                                          batch_size=batch_size, \n",
    "                                          shuffle=False)"
   ]
  },
  {
   "cell_type": "markdown",
   "id": "e6fc955d-5f9f-4296-9459-8cbcca625831",
   "metadata": {},
   "source": [
    "Training loop function:"
   ]
  },
  {
   "cell_type": "code",
   "execution_count": 67,
   "id": "29d1f58a-3d41-491a-8577-d450fe9eb100",
   "metadata": {},
   "outputs": [],
   "source": [
    "def batch_gd(model, criterion, optimizer, train_loader, test_loader, epochs):\n",
    "    train_losses = np.zeros(epochs)\n",
    "    test_losses = np.zeros(epochs)\n",
    "\n",
    "    for it in range(epochs):\n",
    "        model.train()\n",
    "        t0 = datetime.now()\n",
    "        train_loss = []\n",
    "        for inputs, targets in train_loader:\n",
    "            # move data to GPU\n",
    "            inputs, targets = inputs.to(device), targets.to(device).type(torch.LongTensor)\n",
    "\n",
    "            # zero the parameter gradients\n",
    "            optimizer.zero_grad()\n",
    "            \n",
    "            # Forward pass\n",
    "            outputs = model(inputs)\n",
    "            loss = criterion(outputs, targets)\n",
    "\n",
    "            # Backward and optimize\n",
    "            loss.backward()\n",
    "            optimizer.step()\n",
    "\n",
    "            train_loss.append(loss.item())\n",
    "\n",
    "        # Get train loss and test loss\n",
    "        train_loss = np.mean(train_loss) # a little misleading\n",
    "\n",
    "        model.eval()\n",
    "        test_loss = []\n",
    "        for inputs, targets in test_loader:\n",
    "            inputs, targets = inputs.to(device), targets.to(device).type(torch.LongTensor)\n",
    "            outputs = model(inputs)\n",
    "            loss = criterion(outputs, targets)\n",
    "            test_loss.append(loss.item())\n",
    "        test_loss = np.mean(test_loss)\n",
    "\n",
    "        # Save losses\n",
    "        train_losses[it] = train_loss\n",
    "        test_losses[it] = test_loss\n",
    "\n",
    "        dt = datetime.now() - t0\n",
    "        print(f'Epoch {it+1}/{epochs}, Train Loss: {train_loss:.4f}, \\\n",
    "          Test Loss: {test_loss:.4f}, Duration: {dt}')\n",
    "  \n",
    "    return train_losses, test_losses"
   ]
  },
  {
   "cell_type": "code",
   "execution_count": 68,
   "id": "7c86074c-3c2f-4670-8093-e65bb6dd9699",
   "metadata": {},
   "outputs": [
    {
     "name": "stdout",
     "output_type": "stream",
     "text": [
      "Epoch 1/10, Train Loss: 307.1725,           Test Loss: 119.5231, Duration: 0:00:04.633718\n",
      "Epoch 2/10, Train Loss: 60.7002,           Test Loss: 1.3973, Duration: 0:00:04.354650\n",
      "Epoch 3/10, Train Loss: 1.0455,           Test Loss: 0.6693, Duration: 0:00:04.308072\n",
      "Epoch 4/10, Train Loss: 0.6990,           Test Loss: 1.0336, Duration: 0:00:04.331018\n",
      "Epoch 5/10, Train Loss: 1.0542,           Test Loss: 0.5077, Duration: 0:00:04.307932\n",
      "Epoch 6/10, Train Loss: 0.5335,           Test Loss: 0.5187, Duration: 0:00:04.352253\n",
      "Epoch 7/10, Train Loss: 0.4730,           Test Loss: 0.3924, Duration: 0:00:04.339543\n",
      "Epoch 8/10, Train Loss: 0.3547,           Test Loss: 0.3664, Duration: 0:00:04.296854\n",
      "Epoch 9/10, Train Loss: 0.3136,           Test Loss: 0.3302, Duration: 0:00:04.401235\n",
      "Epoch 10/10, Train Loss: 0.2528,           Test Loss: 0.2533, Duration: 0:00:04.295942\n"
     ]
    }
   ],
   "source": [
    "train_losses, test_losses = batch_gd(model, criterion, optimizer, train_loader, test_loader, epochs=10)"
   ]
  },
  {
   "cell_type": "code",
   "execution_count": 69,
   "id": "d1395502-5dfc-492f-9fa0-3fca40286996",
   "metadata": {},
   "outputs": [
    {
     "data": {
      "image/png": "[encoded data removed]",
      "text/plain": [
       "<Figure size 432x288 with 1 Axes>"
      ]
     },
     "metadata": {
      "needs_background": "light"
     },
     "output_type": "display_data"
    }
   ],
   "source": [
    "# Plot the train loss and test loss per iteration\n",
    "plt.plot(train_losses, label='train loss')\n",
    "plt.plot(test_losses, label='test loss')\n",
    "plt.legend()\n",
    "plt.show()"
   ]
  },
  {
   "cell_type": "code",
   "execution_count": null,
   "id": "4f3704c0-93fa-4ca1-94b0-6de09bd430bc",
   "metadata": {},
   "outputs": [],
   "source": []
  }
 ],
 "metadata": {
  "kernelspec": {
   "display_name": "Python 3 (ipykernel)",
   "language": "python",
   "name": "python3"
  },
  "language_info": {
   "codemirror_mode": {
    "name": "ipython",
    "version": 3
   },
   "file_extension": ".py",
   "mimetype": "text/x-python",
   "name": "python",
   "nbconvert_exporter": "python",
   "pygments_lexer": "ipython3",
   "version": "3.9.10"
  }
 },
 "nbformat": 4,
 "nbformat_minor": 5
}
