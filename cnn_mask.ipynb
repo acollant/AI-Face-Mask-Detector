{
 "cells": [
  {
   "cell_type": "markdown",
   "id": "dfb9e617-ec4f-42a4-bdf7-746fe18cce84",
   "metadata": {},
   "source": [
    "# Imports"
   ]
  },
  {
   "cell_type": "code",
   "execution_count": 25,
   "id": "e849b51f-8e04-49d9-a4d4-fa85cd49e108",
   "metadata": {},
   "outputs": [],
   "source": [
    "import torch\n",
    "import torch.nn as nn\n",
    "import torchvision\n",
    "import torchvision.transforms as transforms\n",
    "import numpy as np\n",
    "import matplotlib.pyplot as plt\n",
    "import torch.utils.data as data_utils\n",
    "from PIL import Image\n",
    "import os"
   ]
  },
  {
   "cell_type": "markdown",
   "id": "5ed73bd2-6c69-4343-a6ee-466012ba107a",
   "metadata": {},
   "source": [
    "# Data Loading\n",
    "We want to upload our data in a format that a CNN can understand. In our case our images are 128 by 128 pixels with colors. The shape of each image is $(128, 128, 3)$.\n",
    "\n",
    "```load_image``` transforms image to a ```numpy``` array of size $(128, 128, 3)$, while ```create_npy_from_image``` loops over images in a given directory and returns an array (```numpy```) of images."
   ]
  },
  {
   "cell_type": "code",
   "execution_count": 26,
   "id": "3fbad896-b32a-4fce-a096-4efde65f683f",
   "metadata": {},
   "outputs": [],
   "source": [
    "def load_image(infilename):\n",
    "    \"\"\"This function loads an image into memory when you give it\n",
    "       the path of the image\n",
    "    \"\"\"\n",
    "    img = Image.open(infilename)\n",
    "    img.load()\n",
    "    data = np.asarray(img, dtype=\"float32\")\n",
    "    \n",
    "    if data.shape[2] == 4:\n",
    "        data = np.delete(data, 3, 2)\n",
    "        \n",
    "    return data, data.shape\n",
    "\n",
    "\n",
    "def create_npy_from_image(images_class, st, en):\n",
    "    \"\"\"Loops through the images in a folder and saves all of them\n",
    "       as a numpy array in output_name\n",
    "    \"\"\"\n",
    "\n",
    "    data = []\n",
    "    print(\"##############################################\")\n",
    "    print(f\"class: {images_class}\")\n",
    "    for i in range(st, en+1):\n",
    "        img, shape = load_image(f'./data/{images_class}/{images_class}{i}.png')\n",
    "        data.append(img)\n",
    "        if (i-1)%50 == 0:\n",
    "            print(f\"image number {i}: shape is {shape}\")\n",
    "    \n",
    "    # filename.endswith(\".jpg\"):\n",
    "    return np.array(data, dtype=np.object_)\n",
    "    # return data"
   ]
  },
  {
   "cell_type": "code",
   "execution_count": 27,
   "id": "29021967-301a-41e7-91ec-55bd8f165aff",
   "metadata": {},
   "outputs": [
    {
     "name": "stdout",
     "output_type": "stream",
     "text": [
      "##############################################\n",
      "class: cloth\n",
      "image number 1: shape is (128, 128, 3)\n",
      "image number 51: shape is (128, 128, 3)\n",
      "image number 101: shape is (128, 128, 3)\n",
      "image number 151: shape is (128, 128, 3)\n",
      "image number 201: shape is (128, 128, 3)\n",
      "##############################################\n",
      "class: cloth\n",
      "image number 251: shape is (128, 128, 3)\n",
      "##############################################\n",
      "class: no_mask\n",
      "image number 1: shape is (128, 128, 3)\n",
      "image number 51: shape is (128, 128, 3)\n",
      "image number 101: shape is (128, 128, 3)\n",
      "image number 151: shape is (128, 128, 3)\n",
      "image number 201: shape is (128, 128, 3)\n",
      "##############################################\n",
      "class: no_mask\n",
      "image number 251: shape is (128, 128, 3)\n"
     ]
    }
   ],
   "source": [
    "train_set, test_set = 250, 50\n",
    "img_classes = [\"cloth\", \"no_mask\"]\n",
    "train_data = []\n",
    "test_data = []\n",
    "for img_cl in img_classes:\n",
    "    train_data.append(create_npy_from_image(img_cl, 1, train_set))\n",
    "    test_data.append(create_npy_from_image(img_cl, train_set+1, train_set+test_set))"
   ]
  },
  {
   "cell_type": "code",
   "execution_count": 28,
   "id": "493c0862-3d49-4071-8e42-c010fa402689",
   "metadata": {},
   "outputs": [],
   "source": [
    "train_features = torch.Tensor(np.concatenate(train_data, axis=0).astype(np.int32))\n",
    "train_targets = torch.Tensor(np.concatenate(([0 for i in range(train_set)], [1 for i in range(train_set)]), axis=0).astype(np.int32)).type(torch.IntTensor)\n",
    "\n",
    "test_features = torch.Tensor(np.concatenate(test_data, axis=0).astype(np.int32))\n",
    "test_targets = torch.Tensor(np.concatenate(([0 for i in range(test_set)], [1 for i in range(test_set)]), axis=0).astype(np.int32)).type(torch.IntTensor)"
   ]
  },
  {
   "cell_type": "markdown",
   "id": "be8a744b-0f1c-41bd-ada4-8f08ac29edf1",
   "metadata": {},
   "source": [
    "Last modification to our dataset is using ```data_utils.TensorDataset``` to transform our dataset to a [map-style datasets](https://pytorch.org/docs/stable/data.html#:~:text=of%20these%20options.-,Dataset%20Types,-The%20most%20important). This is useful because it automatically generates batches in the training loop and takes care of shuffling."
   ]
  },
  {
   "cell_type": "code",
   "execution_count": 29,
   "id": "222ea356-9205-48ae-8fa8-5c2ca9bee04f",
   "metadata": {},
   "outputs": [],
   "source": [
    "train_data = data_utils.TensorDataset(train_features, train_targets)\n",
    "test_data = data_utils.TensorDataset(test_features, test_targets)"
   ]
  },
  {
   "cell_type": "markdown",
   "id": "0dea0389-a950-4b27-98af-06307c35695c",
   "metadata": {},
   "source": [
    "# Simple NN model"
   ]
  },
  {
   "cell_type": "code",
   "execution_count": 39,
   "id": "ffe38f00-89f7-407a-a67c-e8b1279d703c",
   "metadata": {},
   "outputs": [],
   "source": [
    "model = nn.Sequential(\n",
    "    nn.Linear(49152, 128),\n",
    "    nn.ReLU(),\n",
    "    nn.Linear(128, 10)\n",
    ")"
   ]
  },
  {
   "cell_type": "code",
   "execution_count": 40,
   "id": "603a16ce-6df8-43b9-a77e-20cb5c8e6123",
   "metadata": {},
   "outputs": [
    {
     "name": "stdout",
     "output_type": "stream",
     "text": [
      "cpu\n"
     ]
    },
    {
     "data": {
      "text/plain": [
       "Sequential(\n",
       "  (0): Linear(in_features=49152, out_features=128, bias=True)\n",
       "  (1): ReLU()\n",
       "  (2): Linear(in_features=128, out_features=10, bias=True)\n",
       ")"
      ]
     },
     "execution_count": 40,
     "metadata": {},
     "output_type": "execute_result"
    }
   ],
   "source": [
    "device = torch.device(\"cuda:0\" if torch.cuda.is_available() else \"cpu\")\n",
    "print(device)\n",
    "model.to(device)"
   ]
  },
  {
   "cell_type": "code",
   "execution_count": 41,
   "id": "286be269-3c0a-4342-8bd8-b7f5080cff38",
   "metadata": {},
   "outputs": [],
   "source": [
    "criterion = nn.CrossEntropyLoss()\n",
    "optimizer = torch.optim.Adam(model.parameters())"
   ]
  },
  {
   "cell_type": "code",
   "execution_count": 42,
   "id": "d13d7886-84a2-4831-ac5f-5f278929b0b6",
   "metadata": {},
   "outputs": [],
   "source": [
    "batch_size = 250\n",
    "train_loader = torch.utils.data.DataLoader(dataset=train_data, \n",
    "                                           batch_size=batch_size, \n",
    "                                           shuffle=True)\n",
    "\n",
    "test_loader = torch.utils.data.DataLoader(dataset=test_data, \n",
    "                                          batch_size=batch_size, \n",
    "                                          shuffle=False)"
   ]
  },
  {
   "cell_type": "code",
   "execution_count": 43,
   "id": "e3a6ab3a-a72b-464f-b2ed-69719566e856",
   "metadata": {},
   "outputs": [],
   "source": [
    "tmp_loader = torch.utils.data.DataLoader(dataset=train_data, \n",
    "                                           batch_size=1, \n",
    "                                           shuffle=True)"
   ]
  },
  {
   "cell_type": "markdown",
   "id": "a09a7050-b13b-4364-85b7-659c9f63eb49",
   "metadata": {},
   "source": [
    "### Training"
   ]
  },
  {
   "cell_type": "code",
   "execution_count": null,
   "id": "058a69bb-02ac-4e85-b09f-4e144baccd3b",
   "metadata": {},
   "outputs": [
    {
     "name": "stdout",
     "output_type": "stream",
     "text": [
      "Epoch 10/100, Train Loss: 5.6762, Test Loss: 2.0194\n",
      "Epoch 20/100, Train Loss: 2.2675, Test Loss: 2.2650\n"
     ]
    }
   ],
   "source": [
    "# Train the model\n",
    "n_epochs = 100\n",
    "\n",
    "# Stuff to store\n",
    "train_losses = np.zeros(n_epochs)\n",
    "test_losses = np.zeros(n_epochs)\n",
    "\n",
    "for it in range(n_epochs):\n",
    "    train_loss = []\n",
    "    for inputs, targets in train_loader:\n",
    "        # move data to GPU\n",
    "        inputs, targets = inputs.to(device), targets.to(device).type(torch.LongTensor)\n",
    "\n",
    "        # reshape the input\n",
    "        inputs = inputs.view(-1, 49152)\n",
    "\n",
    "        # zero the parameter gradients\n",
    "        optimizer.zero_grad()\n",
    "\n",
    "        # Forward pass\n",
    "        outputs = model(inputs)\n",
    "        loss = criterion(outputs, targets)\n",
    "\n",
    "        # Backward and optimize\n",
    "        loss.backward()\n",
    "        optimizer.step()\n",
    "\n",
    "        train_loss.append(loss.item())\n",
    "\n",
    "    # Get train loss and test loss\n",
    "    train_loss = np.mean(train_loss) # a little misleading\n",
    "  \n",
    "    test_loss = []\n",
    "    for inputs, targets in test_loader:\n",
    "        inputs, targets = inputs.to(device), targets.to(device).type(torch.LongTensor)\n",
    "        inputs = inputs.view(-1, 49152)\n",
    "        outputs = model(inputs)\n",
    "        loss = criterion(outputs, targets)\n",
    "        test_loss.append(loss.item())\n",
    "    test_loss = np.mean(test_loss)\n",
    "\n",
    "    # Save losses\n",
    "    train_losses[it] = train_loss\n",
    "    test_losses[it] = test_loss\n",
    "    \n",
    "    if (it+1)%10 == 0:\n",
    "        print(f'Epoch {it+1}/{n_epochs}, Train Loss: {train_loss:.4f}, Test Loss: {test_loss:.4f}')"
   ]
  },
  {
   "cell_type": "code",
   "execution_count": 36,
   "id": "64267f79-a3f5-47c5-ad9c-0a8bb097f689",
   "metadata": {},
   "outputs": [
    {
     "data": {
      "image/png": "[encoded data removed]",
      "text/plain": [
       "<Figure size 432x288 with 1 Axes>"
      ]
     },
     "metadata": {
      "needs_background": "light"
     },
     "output_type": "display_data"
    }
   ],
   "source": [
    "# Plot the train loss and test loss per iteration\n",
    "plt.plot(train_losses, label='train loss')\n",
    "plt.plot(test_losses, label='test loss')\n",
    "plt.legend()\n",
    "plt.show()"
   ]
  },
  {
   "cell_type": "code",
   "execution_count": null,
   "id": "6fb157b8-e8f2-46d8-8c1b-29af2c10be3b",
   "metadata": {},
   "outputs": [],
   "source": []
  }
 ],
 "metadata": {
  "kernelspec": {
   "display_name": "Python 3 (ipykernel)",
   "language": "python",
   "name": "python3"
  },
  "language_info": {
   "codemirror_mode": {
    "name": "ipython",
    "version": 3
   },
   "file_extension": ".py",
   "mimetype": "text/x-python",
   "name": "python",
   "nbconvert_exporter": "python",
   "pygments_lexer": "ipython3",
   "version": "3.9.10"
  }
 },
 "nbformat": 4,
 "nbformat_minor": 5
}
